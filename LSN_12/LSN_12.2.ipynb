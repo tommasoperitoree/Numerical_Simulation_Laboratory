{
 "cells": [
  {
   "cell_type": "markdown",
   "metadata": {},
   "source": [
    "Tommaso Peritore"
   ]
  },
  {
   "cell_type": "code",
   "execution_count": 2,
   "metadata": {},
   "outputs": [],
   "source": [
    "#import os\n",
    "#os.environ['KMP_DUPLICATE_LIB_OK']='True' #This is needed in my Anaconda+MacOsX installation; leave it commented.\n",
    "import tensorflow as tf\n",
    "from tensorflow import keras\n",
    "import os\n",
    "import numpy as np\n",
    "import matplotlib.pyplot as plt"
   ]
  },
  {
   "cell_type": "markdown",
   "metadata": {},
   "source": [
    "# 12.2"
   ]
  },
  {
   "cell_type": "markdown",
   "metadata": {},
   "source": [
    "\n",
    "Change the architecture of your DNN using convolutional layers. Use `Conv2D`, `MaxPooling2D`, `Dropout`, but also do not forget `Flatten`, a standard `Dense` layer and `soft-max` in the end. I have merged step 2 and 3 in the following definition of `create_CNN()` that **you should complete**:"
   ]
  },
  {
   "cell_type": "code",
   "execution_count": 13,
   "metadata": {},
   "outputs": [],
   "source": [
    "#THIS IS INCOMPLETE ... COMPLETE BEFORE EXECUTING IT\n",
    "\n",
    "def create_CNN():\n",
    "    # instantiate model\n",
    "    model = Sequential()\n",
    "    # add first convolutional layer with 10 filters (dimensionality of output space)\n",
    "    model.add(Conv2D(num_classes, kernel_size=(5, 5), strides=(1, 1),\n",
    "                     activation='relu',\n",
    "                     input_shape=input_shape))\n",
    "    #\n",
    "    # ADD HERE SOME OTHER LAYERS AT YOUR WILL, FOR EXAMPLE SOME: Dropout, 2D pooling, 2D convolutional etc. ... \n",
    "    # remember to move towards a standard flat layer in the final part of your DNN,\n",
    "    # and that we need a soft-max layer with num_classes=10 possible outputs\n",
    "    #\n",
    "    model.add(Dropout(0.5))\n",
    "    model.add(MaxPooling2D(pool_size=(2, 2), strides=(2, 2)))\n",
    "    model.add(Conv2D(24, kernel_size=(5, 5), strides=(1, 1),\n",
    "\t\t\t\t\t\t\tactivation='relu'))\n",
    "    model.add(MaxPooling2D(pool_size=(2, 2), strides=(2, 2)))\n",
    "    model.add(Flatten())\n",
    "    model.add(Dense(400, activation='relu'))\n",
    "    model.add(Dense(num_classes, activation='softmax'))\n",
    "    \n",
    "    # compile the model\n",
    "    model.compile(loss=keras.losses.categorical_crossentropy,\n",
    "                  optimizer='SGD',\n",
    "                  metrics=['acc'])\n",
    "    return model"
   ]
  },
  {
   "cell_type": "markdown",
   "metadata": {},
   "source": [
    "Train your DCNN and evaluate its performance proceeding exactly as before:"
   ]
  },
  {
   "cell_type": "code",
   "execution_count": 14,
   "metadata": {},
   "outputs": [
    {
     "name": "stdout",
     "output_type": "stream",
     "text": [
      "Epoch 1/50\n",
      "1875/1875 [==============================] - 11s 6ms/step - loss: 0.3897 - acc: 0.8791 - val_loss: 0.2078 - val_acc: 0.9626\n",
      "Epoch 2/50\n",
      "1875/1875 [==============================] - 11s 6ms/step - loss: 0.1270 - acc: 0.9622 - val_loss: 0.1471 - val_acc: 0.9746\n",
      "Epoch 3/50\n",
      "1875/1875 [==============================] - 11s 6ms/step - loss: 0.0936 - acc: 0.9717 - val_loss: 0.1138 - val_acc: 0.9803\n",
      "Epoch 4/50\n",
      "1875/1875 [==============================] - 11s 6ms/step - loss: 0.0747 - acc: 0.9776 - val_loss: 0.0881 - val_acc: 0.9839\n",
      "Epoch 5/50\n",
      "1875/1875 [==============================] - 10s 5ms/step - loss: 0.0651 - acc: 0.9793 - val_loss: 0.0893 - val_acc: 0.9835\n",
      "Epoch 6/50\n",
      "1875/1875 [==============================] - 10s 6ms/step - loss: 0.0558 - acc: 0.9827 - val_loss: 0.0776 - val_acc: 0.9847\n",
      "Epoch 7/50\n",
      "1875/1875 [==============================] - 11s 6ms/step - loss: 0.0493 - acc: 0.9847 - val_loss: 0.0678 - val_acc: 0.9870\n",
      "Epoch 8/50\n",
      "1875/1875 [==============================] - 12s 6ms/step - loss: 0.0446 - acc: 0.9858 - val_loss: 0.0565 - val_acc: 0.9879\n",
      "Epoch 9/50\n",
      "1875/1875 [==============================] - 12s 6ms/step - loss: 0.0420 - acc: 0.9874 - val_loss: 0.0683 - val_acc: 0.9851\n",
      "Epoch 10/50\n",
      "1875/1875 [==============================] - 12s 6ms/step - loss: 0.0382 - acc: 0.9881 - val_loss: 0.0518 - val_acc: 0.9891\n",
      "Epoch 11/50\n",
      "1875/1875 [==============================] - 12s 6ms/step - loss: 0.0361 - acc: 0.9883 - val_loss: 0.0569 - val_acc: 0.9865\n",
      "Epoch 12/50\n",
      "1875/1875 [==============================] - 12s 6ms/step - loss: 0.0322 - acc: 0.9901 - val_loss: 0.0457 - val_acc: 0.9898\n",
      "Epoch 13/50\n",
      "1875/1875 [==============================] - 12s 7ms/step - loss: 0.0303 - acc: 0.9904 - val_loss: 0.0427 - val_acc: 0.9904\n",
      "Epoch 14/50\n",
      "1875/1875 [==============================] - 12s 6ms/step - loss: 0.0293 - acc: 0.9906 - val_loss: 0.0452 - val_acc: 0.9883\n",
      "Epoch 15/50\n",
      "1875/1875 [==============================] - 13s 7ms/step - loss: 0.0264 - acc: 0.9918 - val_loss: 0.0419 - val_acc: 0.9893\n",
      "Epoch 16/50\n",
      "1875/1875 [==============================] - 13s 7ms/step - loss: 0.0249 - acc: 0.9919 - val_loss: 0.0472 - val_acc: 0.9873\n",
      "Epoch 17/50\n",
      "1875/1875 [==============================] - 12s 6ms/step - loss: 0.0232 - acc: 0.9927 - val_loss: 0.0385 - val_acc: 0.9912\n",
      "Epoch 18/50\n",
      "1875/1875 [==============================] - 15s 8ms/step - loss: 0.0227 - acc: 0.9923 - val_loss: 0.0395 - val_acc: 0.9897\n",
      "Epoch 19/50\n",
      "1875/1875 [==============================] - 12s 6ms/step - loss: 0.0205 - acc: 0.9932 - val_loss: 0.0355 - val_acc: 0.9909\n",
      "Epoch 20/50\n",
      "1875/1875 [==============================] - 12s 6ms/step - loss: 0.0197 - acc: 0.9935 - val_loss: 0.0357 - val_acc: 0.9908\n",
      "Epoch 21/50\n",
      "1875/1875 [==============================] - 13s 7ms/step - loss: 0.0185 - acc: 0.9940 - val_loss: 0.0359 - val_acc: 0.9906\n",
      "Epoch 22/50\n",
      "1875/1875 [==============================] - 11s 6ms/step - loss: 0.0174 - acc: 0.9944 - val_loss: 0.0351 - val_acc: 0.9896\n",
      "Epoch 23/50\n",
      "1875/1875 [==============================] - 12s 6ms/step - loss: 0.0174 - acc: 0.9943 - val_loss: 0.0359 - val_acc: 0.9898\n",
      "Epoch 24/50\n",
      "1875/1875 [==============================] - 12s 6ms/step - loss: 0.0151 - acc: 0.9949 - val_loss: 0.0309 - val_acc: 0.9918\n",
      "Epoch 25/50\n",
      "1875/1875 [==============================] - 12s 6ms/step - loss: 0.0146 - acc: 0.9952 - val_loss: 0.0338 - val_acc: 0.9914\n",
      "Epoch 26/50\n",
      "1875/1875 [==============================] - 11s 6ms/step - loss: 0.0143 - acc: 0.9952 - val_loss: 0.0309 - val_acc: 0.9910\n",
      "Epoch 27/50\n",
      "1875/1875 [==============================] - 12s 7ms/step - loss: 0.0132 - acc: 0.9956 - val_loss: 0.0340 - val_acc: 0.9891\n",
      "Epoch 28/50\n",
      "1875/1875 [==============================] - 13s 7ms/step - loss: 0.0125 - acc: 0.9961 - val_loss: 0.0287 - val_acc: 0.9916\n",
      "Epoch 29/50\n",
      "1875/1875 [==============================] - 11s 6ms/step - loss: 0.0132 - acc: 0.9956 - val_loss: 0.0276 - val_acc: 0.9919\n",
      "Epoch 30/50\n",
      "1875/1875 [==============================] - 10s 5ms/step - loss: 0.0117 - acc: 0.9963 - val_loss: 0.0281 - val_acc: 0.9928\n",
      "Epoch 31/50\n",
      "1875/1875 [==============================] - 10s 5ms/step - loss: 0.0115 - acc: 0.9965 - val_loss: 0.0289 - val_acc: 0.9915\n",
      "Epoch 32/50\n",
      "1875/1875 [==============================] - 11s 6ms/step - loss: 0.0102 - acc: 0.9967 - val_loss: 0.0321 - val_acc: 0.9904\n",
      "Epoch 33/50\n",
      "1875/1875 [==============================] - 11s 6ms/step - loss: 0.0108 - acc: 0.9965 - val_loss: 0.0301 - val_acc: 0.9904\n",
      "Epoch 34/50\n",
      "1875/1875 [==============================] - 10s 6ms/step - loss: 0.0102 - acc: 0.9967 - val_loss: 0.0291 - val_acc: 0.9920\n",
      "Epoch 35/50\n",
      "1875/1875 [==============================] - 11s 6ms/step - loss: 0.0096 - acc: 0.9967 - val_loss: 0.0270 - val_acc: 0.9920\n",
      "Epoch 36/50\n",
      "1875/1875 [==============================] - 15s 8ms/step - loss: 0.0091 - acc: 0.9970 - val_loss: 0.0291 - val_acc: 0.9906\n",
      "Epoch 37/50\n",
      "1875/1875 [==============================] - 13s 7ms/step - loss: 0.0087 - acc: 0.9972 - val_loss: 0.0280 - val_acc: 0.9916\n",
      "Epoch 38/50\n",
      "1875/1875 [==============================] - 13s 7ms/step - loss: 0.0087 - acc: 0.9972 - val_loss: 0.0288 - val_acc: 0.9917\n",
      "Epoch 39/50\n",
      "1875/1875 [==============================] - 13s 7ms/step - loss: 0.0081 - acc: 0.9977 - val_loss: 0.0257 - val_acc: 0.9920\n",
      "Epoch 40/50\n",
      "1875/1875 [==============================] - 12s 6ms/step - loss: 0.0084 - acc: 0.9973 - val_loss: 0.0273 - val_acc: 0.9914\n",
      "Epoch 41/50\n",
      "1875/1875 [==============================] - 11s 6ms/step - loss: 0.0068 - acc: 0.9980 - val_loss: 0.0286 - val_acc: 0.9912\n",
      "Epoch 42/50\n",
      "1875/1875 [==============================] - 11s 6ms/step - loss: 0.0074 - acc: 0.9973 - val_loss: 0.0277 - val_acc: 0.9914\n",
      "Epoch 43/50\n",
      "1875/1875 [==============================] - 13s 7ms/step - loss: 0.0070 - acc: 0.9979 - val_loss: 0.0269 - val_acc: 0.9910\n",
      "Epoch 44/50\n",
      "1875/1875 [==============================] - 11s 6ms/step - loss: 0.0067 - acc: 0.9979 - val_loss: 0.0262 - val_acc: 0.9916\n",
      "Epoch 45/50\n",
      "1875/1875 [==============================] - 11s 6ms/step - loss: 0.0067 - acc: 0.9976 - val_loss: 0.0313 - val_acc: 0.9902\n",
      "Epoch 46/50\n",
      "1875/1875 [==============================] - 11s 6ms/step - loss: 0.0058 - acc: 0.9983 - val_loss: 0.0249 - val_acc: 0.9920\n",
      "Epoch 47/50\n",
      "1875/1875 [==============================] - 12s 6ms/step - loss: 0.0065 - acc: 0.9980 - val_loss: 0.0249 - val_acc: 0.9920\n",
      "Epoch 48/50\n",
      "1875/1875 [==============================] - 13s 7ms/step - loss: 0.0055 - acc: 0.9982 - val_loss: 0.0243 - val_acc: 0.9926\n",
      "Epoch 49/50\n",
      "1875/1875 [==============================] - 12s 6ms/step - loss: 0.0053 - acc: 0.9983 - val_loss: 0.0257 - val_acc: 0.9920\n",
      "Epoch 50/50\n",
      "1875/1875 [==============================] - 12s 6ms/step - loss: 0.0057 - acc: 0.9980 - val_loss: 0.0267 - val_acc: 0.9914\n",
      "313/313 [==============================] - 1s 2ms/step - loss: 0.0267 - acc: 0.9914\n",
      "\n",
      "Test loss: 0.02673402428627014\n",
      "Test accuracy: 0.9914000034332275\n"
     ]
    }
   ],
   "source": [
    "# training parameters\n",
    "batch_size = 32\n",
    "epochs = 50 # INSERT HERE AN ADEQUATE NUMBER OF EPOCHS!\n",
    "\n",
    "# create the deep conv net\n",
    "model_CNN=create_CNN()\n",
    "\n",
    "# train CNN\n",
    "history = model_CNN.fit(X_train, Y_train,\n",
    "          batch_size=batch_size,\n",
    "          epochs=epochs,\n",
    "          verbose=1,\n",
    "          validation_data=(X_test, Y_test))\n",
    "\n",
    "# evaliate model\n",
    "score = model_CNN.evaluate(X_test, Y_test, verbose=1)\n",
    "\n",
    "# print performance\n",
    "print()\n",
    "print('Test loss:', score[0])\n",
    "print('Test accuracy:', score[1])"
   ]
  },
  {
   "cell_type": "markdown",
   "metadata": {},
   "source": [
    "In the end, **add the evaluation of your CNN performances** like that used for the DNN."
   ]
  },
  {
   "cell_type": "code",
   "execution_count": 19,
   "metadata": {},
   "outputs": [
    {
     "data": {
      "image/png": "[encoded data removed]",
      "text/plain": [
       "<Figure size 640x480 with 1 Axes>"
      ]
     },
     "metadata": {},
     "output_type": "display_data"
    },
    {
     "data": {
      "image/png": "[encoded data removed]",
      "text/plain": [
       "<Figure size 640x480 with 1 Axes>"
      ]
     },
     "metadata": {},
     "output_type": "display_data"
    }
   ],
   "source": [
    "# look into training history\n",
    "\n",
    "# summarize history for accuracy\n",
    "plt.plot(history.history['acc'])\n",
    "plt.plot(history.history['val_acc'])\n",
    "plt.ylabel('model accuracy')\n",
    "plt.xlabel('epoch')\n",
    "plt.legend(['train', 'test'], loc='best')\n",
    "plt.show()\n",
    "\n",
    "# summarize history for loss\n",
    "plt.plot(history.history['loss'])\n",
    "plt.plot(history.history['val_loss'])\n",
    "plt.ylabel('model loss')\n",
    "plt.xlabel('epoch')\n",
    "plt.legend(['train', 'test'], loc='best')\n",
    "plt.show()"
   ]
  },
  {
   "cell_type": "code",
   "execution_count": 20,
   "metadata": {},
   "outputs": [
    {
     "name": "stdout",
     "output_type": "stream",
     "text": [
      "313/313 [==============================] - 1s 2ms/step\n"
     ]
    },
    {
     "data": {
      "image/png": "[encoded data removed]",
      "text/plain": [
       "<Figure size 1500x1500 with 10 Axes>"
      ]
     },
     "metadata": {},
     "output_type": "display_data"
    }
   ],
   "source": [
    "X_test = X_test.reshape(X_test.shape[0], img_rows, img_cols, 1)\n",
    "predictions = model_CNN.predict(X_test)\n",
    "\n",
    "#X_test = X_test.reshape(X_test.shape[0], img_rows, img_cols, 1)\n",
    "\n",
    "plt.figure(figsize=(15, 15)) \n",
    "for i in range(10):    \n",
    "    ax = plt.subplot(2, 10, i + 1)    \n",
    "    plt.imshow(X_test[i, :, :, 0], cmap='gray')    \n",
    "    plt.title(\"Digit: {}\\nPredicted: {}\".format(np.argmax(Y_test[i]), np.argmax(predictions[i])))    \n",
    "    plt.axis('off') \n",
    "plt.show()"
   ]
  },
  {
   "cell_type": "markdown",
   "metadata": {},
   "source": [
    "### Exercise 12.3"
   ]
  },
  {
   "cell_type": "code",
   "execution_count": 21,
   "metadata": {},
   "outputs": [],
   "source": [
    "# TO LOAD FILES ON GOOGLE COLAB\n",
    "#from google.colab import files\n",
    "#upload = files.upload() #this will let you browse and choose the file to be uploaded"
   ]
  },
  {
   "cell_type": "code",
   "execution_count": 22,
   "metadata": {},
   "outputs": [
    {
     "ename": "FileNotFoundError",
     "evalue": "[Errno 2] No such file or directory: './Pictures/8b.png'",
     "output_type": "error",
     "traceback": [
      "\u001b[0;31m---------------------------------------------------------------------------\u001b[0m",
      "\u001b[0;31mFileNotFoundError\u001b[0m                         Traceback (most recent call last)",
      "Cell \u001b[0;32mIn[22], line 5\u001b[0m\n\u001b[1;32m      2\u001b[0m \u001b[38;5;28;01mimport\u001b[39;00m \u001b[38;5;21;01mos\u001b[39;00m\n\u001b[1;32m      4\u001b[0m digit_filename \u001b[38;5;241m=\u001b[39m \u001b[38;5;124m\"\u001b[39m\u001b[38;5;124m./Pictures/8b.png\u001b[39m\u001b[38;5;124m\"\u001b[39m\n\u001b[0;32m----> 5\u001b[0m digit_in \u001b[38;5;241m=\u001b[39m \u001b[43mImage\u001b[49m\u001b[38;5;241;43m.\u001b[39;49m\u001b[43mopen\u001b[49m\u001b[43m(\u001b[49m\u001b[43mdigit_filename\u001b[49m\u001b[43m)\u001b[49m\u001b[38;5;241m.\u001b[39mconvert(\u001b[38;5;124m'\u001b[39m\u001b[38;5;124mL\u001b[39m\u001b[38;5;124m'\u001b[39m)\n\u001b[1;32m      6\u001b[0m \u001b[38;5;66;03m#digit_in = Image.open(\"8b.png\").convert('L') #ON GOOGLE COLAB INSERT THE NAME OF THE UPLOADED FILE\u001b[39;00m\n\u001b[1;32m      8\u001b[0m ydim, xdim \u001b[38;5;241m=\u001b[39m digit_in\u001b[38;5;241m.\u001b[39msize\n",
      "File \u001b[0;32m~/anaconda3/envs/tf/lib/python3.9/site-packages/PIL/Image.py:3247\u001b[0m, in \u001b[0;36mopen\u001b[0;34m(fp, mode, formats)\u001b[0m\n\u001b[1;32m   3244\u001b[0m     filename \u001b[38;5;241m=\u001b[39m fp\n\u001b[1;32m   3246\u001b[0m \u001b[38;5;28;01mif\u001b[39;00m filename:\n\u001b[0;32m-> 3247\u001b[0m     fp \u001b[38;5;241m=\u001b[39m \u001b[43mbuiltins\u001b[49m\u001b[38;5;241;43m.\u001b[39;49m\u001b[43mopen\u001b[49m\u001b[43m(\u001b[49m\u001b[43mfilename\u001b[49m\u001b[43m,\u001b[49m\u001b[43m \u001b[49m\u001b[38;5;124;43m\"\u001b[39;49m\u001b[38;5;124;43mrb\u001b[39;49m\u001b[38;5;124;43m\"\u001b[39;49m\u001b[43m)\u001b[49m\n\u001b[1;32m   3248\u001b[0m     exclusive_fp \u001b[38;5;241m=\u001b[39m \u001b[38;5;28;01mTrue\u001b[39;00m\n\u001b[1;32m   3250\u001b[0m \u001b[38;5;28;01mtry\u001b[39;00m:\n",
      "\u001b[0;31mFileNotFoundError\u001b[0m: [Errno 2] No such file or directory: './Pictures/8b.png'"
     ]
    }
   ],
   "source": [
    "from PIL import Image\n",
    "import os\n",
    "\n",
    "digit_filename = \"./Pictures/8b.png\"\n",
    "digit_in = Image.open(digit_filename).convert('L')\n",
    "#digit_in = Image.open(\"8b.png\").convert('L') #ON GOOGLE COLAB INSERT THE NAME OF THE UPLOADED FILE\n",
    "\n",
    "ydim, xdim = digit_in.size\n",
    "print(\"Image size: \"+str(xdim)+\"x\"+str(ydim))\n",
    "pix=digit_in.load();\n",
    "data = np.zeros((xdim, ydim))\n",
    "for j in range(ydim):\n",
    "    for i in range(xdim):\n",
    "        data[i,j]=pix[j,i]\n",
    "\n",
    "data /= 255\n",
    "\n",
    "plt.figure(figsize=(5,5))\n",
    "plt.imshow(data, cmap='gray')\n",
    "plt.show()\n",
    "\n",
    "print(data.shape)"
   ]
  },
  {
   "cell_type": "markdown",
   "metadata": {},
   "source": [
    "I use the previously trained DNN to predict the digit:"
   ]
  },
  {
   "cell_type": "code",
   "execution_count": null,
   "metadata": {},
   "outputs": [],
   "source": [
    "print(data.shape)\n",
    "data = data.reshape(1,xdim*ydim)\n",
    "print(data.shape)\n",
    "pred_0 = model_DNN.predict(data)\n",
    "\n",
    "data = data.reshape(xdim,ydim)\n",
    "\n",
    "plt.figure(figsize=(5, 5))  \n",
    "plt.imshow(data, cmap='gray')    \n",
    "plt.title(\"Digit predicted:    {}\".format(np.argmax(pred_0)))\n",
    "plt.axis('off') \n",
    "plt.show()"
   ]
  },
  {
   "cell_type": "markdown",
   "metadata": {},
   "source": [
    "## Supplementaries"
   ]
  },
  {
   "cell_type": "markdown",
   "metadata": {},
   "source": [
    "### Supplementary information 1: Use of `gimp`"
   ]
  },
  {
   "cell_type": "markdown",
   "metadata": {},
   "source": [
    "\n",
    "- from the Unix shell type: `gimp` and hit `Return`\n",
    "- File -> new (chose: 28x28 pixels)\n",
    "- rascale the image to 800%\n",
    "- Use the **brush** with dimension 2px to draw your digit\n",
    "- Color -> invert (to have black background)\n",
    "- Export the image as a `.png` file\n",
    "\n",
    "That's all!"
   ]
  },
  {
   "cell_type": "markdown",
   "metadata": {},
   "source": [
    "### Supplementary information 2: Display trained filters in your CNN"
   ]
  },
  {
   "cell_type": "markdown",
   "metadata": {},
   "source": [
    "Print your NN layers:"
   ]
  },
  {
   "cell_type": "code",
   "execution_count": null,
   "metadata": {},
   "outputs": [],
   "source": [
    "layer_index=0\n",
    "for layer in model_CNN.layers:\n",
    "    print(layer_index, layer.name)\n",
    "    layer_index+=1"
   ]
  },
  {
   "cell_type": "markdown",
   "metadata": {},
   "source": [
    "Display your filters:"
   ]
  },
  {
   "cell_type": "code",
   "execution_count": null,
   "metadata": {},
   "outputs": [],
   "source": [
    "# layer_index should be the index of a convolutional layer\n",
    "layer_index=0\n",
    "# retrieve weights from the convolutional hidden layer\n",
    "filters, biases = model_CNN.layers[layer_index].get_weights()\n",
    "# normalize filter values to 0-1 so we can visualize them\n",
    "f_min, f_max = filters.min(), filters.max()\n",
    "filters = (filters - f_min) / (f_max - f_min)\n",
    "print(filters.shape)\n",
    "\n",
    "# plot filters\n",
    "n_filters, ix = filters.shape[3], 1\n",
    "for i in range(n_filters):\n",
    "    # get the filter\n",
    "    f = filters[:, :, :, i]\n",
    "    # specify subplot and turn of axis\n",
    "    ax = plt.subplot(1,n_filters, ix)\n",
    "    ax.set_xticks([])\n",
    "    ax.set_yticks([])\n",
    "    # plot filter channel in grayscale\n",
    "    plt.imshow(f[:, :, 0], cmap='gray')\n",
    "    ix += 1\n",
    "# show the figure\n",
    "plt.show()"
   ]
  },
  {
   "cell_type": "markdown",
   "metadata": {},
   "source": [
    "### Supplementary information 3: Monitor layer outputs in your CNN"
   ]
  },
  {
   "cell_type": "code",
   "execution_count": null,
   "metadata": {},
   "outputs": [],
   "source": [
    "test_index = 0\n",
    "\n",
    "from keras.models import Model\n",
    "layer_outputs = [layer.output for layer in model_CNN.layers]\n",
    "activation_model = Model(inputs=model_CNN.input, outputs=layer_outputs)\n",
    "activations = activation_model.predict(X_test[test_index].reshape(1,28,28,1))\n",
    " \n",
    "def display_activation(activations, col_size, row_size, layer_index): \n",
    "    activation = activations[layer_index]\n",
    "    activation_index=0\n",
    "    fig, ax = plt.subplots(row_size, col_size, figsize=(row_size*3,col_size*3))\n",
    "    for row in range(0,row_size):\n",
    "        for col in range(0,col_size):\n",
    "            ax[row][col].imshow(activation[0, :, :, activation_index], cmap='gray')\n",
    "            activation_index += 1"
   ]
  },
  {
   "cell_type": "code",
   "execution_count": null,
   "metadata": {},
   "outputs": [],
   "source": [
    "%matplotlib inline\n",
    "plt.imshow(X_test[test_index][:,:,0], cmap='gray')\n",
    "# def display_activation(activations, col_size, row_size, layer number)\n",
    "display_activation(activations, 4, 2, 0)\n",
    "# col_size x row_size must be <= Number of filters for the convolutional layer"
   ]
  }
 ],
 "metadata": {
  "kernelspec": {
   "display_name": "Python 3 (ipykernel)",
   "language": "python",
   "name": "python3"
  },
  "language_info": {
   "codemirror_mode": {
    "name": "ipython",
    "version": 3
   },
   "file_extension": ".py",
   "mimetype": "text/x-python",
   "name": "python",
   "nbconvert_exporter": "python",
   "pygments_lexer": "ipython3",
   "version": "3.9.18"
  }
 },
 "nbformat": 4,
 "nbformat_minor": 2
}
